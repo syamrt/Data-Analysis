{
 "cells": [
  {
   "cell_type": "code",
   "execution_count": 1,
   "id": "9c878062",
   "metadata": {},
   "outputs": [],
   "source": [
    "import pandas as pd\n",
    "import numpy as np"
   ]
  },
  {
   "cell_type": "code",
   "execution_count": 2,
   "id": "a0a7403c",
   "metadata": {},
   "outputs": [],
   "source": [
    "df = pd.read_csv('Transactions.csv')\n",
    "swift_codes = pd.read_csv('Swift Codes.csv')"
   ]
  },
  {
   "cell_type": "code",
   "execution_count": 3,
   "id": "483fb490",
   "metadata": {},
   "outputs": [
    {
     "name": "stdout",
     "output_type": "stream",
     "text": [
      "<class 'pandas.core.frame.DataFrame'>\n",
      "RangeIndex: 100 entries, 0 to 99\n",
      "Data columns (total 4 columns):\n",
      " #   Column          Non-Null Count  Dtype \n",
      "---  ------          --------------  ----- \n",
      " 0   Transaction ID  100 non-null    int64 \n",
      " 1   Account Number  100 non-null    int64 \n",
      " 2   Sort Code       100 non-null    object\n",
      " 3   Bank            100 non-null    object\n",
      "dtypes: int64(2), object(2)\n",
      "memory usage: 3.2+ KB\n"
     ]
    }
   ],
   "source": [
    "df.info()"
   ]
  },
  {
   "cell_type": "code",
   "execution_count": 4,
   "id": "a4d01601",
   "metadata": {},
   "outputs": [
    {
     "data": {
      "text/html": [
       "<div>\n",
       "<style scoped>\n",
       "    .dataframe tbody tr th:only-of-type {\n",
       "        vertical-align: middle;\n",
       "    }\n",
       "\n",
       "    .dataframe tbody tr th {\n",
       "        vertical-align: top;\n",
       "    }\n",
       "\n",
       "    .dataframe thead th {\n",
       "        text-align: right;\n",
       "    }\n",
       "</style>\n",
       "<table border=\"1\" class=\"dataframe\">\n",
       "  <thead>\n",
       "    <tr style=\"text-align: right;\">\n",
       "      <th></th>\n",
       "      <th>Transaction ID</th>\n",
       "      <th>Account Number</th>\n",
       "      <th>Sort Code</th>\n",
       "      <th>Bank</th>\n",
       "    </tr>\n",
       "  </thead>\n",
       "  <tbody>\n",
       "    <tr>\n",
       "      <th>0</th>\n",
       "      <td>3888</td>\n",
       "      <td>62230725</td>\n",
       "      <td>95-98-82</td>\n",
       "      <td>Data Source Bank</td>\n",
       "    </tr>\n",
       "    <tr>\n",
       "      <th>1</th>\n",
       "      <td>4746</td>\n",
       "      <td>83172326</td>\n",
       "      <td>42-86-38</td>\n",
       "      <td>Barclays Bank</td>\n",
       "    </tr>\n",
       "    <tr>\n",
       "      <th>2</th>\n",
       "      <td>5404</td>\n",
       "      <td>34302539</td>\n",
       "      <td>53-28-21</td>\n",
       "      <td>Barclays Bank</td>\n",
       "    </tr>\n",
       "    <tr>\n",
       "      <th>3</th>\n",
       "      <td>9013</td>\n",
       "      <td>13350031</td>\n",
       "      <td>93-87-71</td>\n",
       "      <td>Natwest</td>\n",
       "    </tr>\n",
       "    <tr>\n",
       "      <th>4</th>\n",
       "      <td>2535</td>\n",
       "      <td>68745993</td>\n",
       "      <td>57-14-32</td>\n",
       "      <td>Barclays Bank</td>\n",
       "    </tr>\n",
       "  </tbody>\n",
       "</table>\n",
       "</div>"
      ],
      "text/plain": [
       "   Transaction ID  Account Number Sort Code              Bank\n",
       "0            3888        62230725  95-98-82  Data Source Bank\n",
       "1            4746        83172326  42-86-38     Barclays Bank\n",
       "2            5404        34302539  53-28-21     Barclays Bank\n",
       "3            9013        13350031  93-87-71           Natwest\n",
       "4            2535        68745993  57-14-32     Barclays Bank"
      ]
     },
     "execution_count": 4,
     "metadata": {},
     "output_type": "execute_result"
    }
   ],
   "source": [
    "df.head()"
   ]
  },
  {
   "cell_type": "code",
   "execution_count": 5,
   "id": "e384770e",
   "metadata": {},
   "outputs": [],
   "source": [
    "# In the Transactions table, there is a Sort Code field which contains dashes. \n",
    "# We need to remove these so just have a 6 digit string\n",
    "df['Sort Code'] = df['Sort Code'].apply(lambda x: x.replace('-',''))"
   ]
  },
  {
   "cell_type": "code",
   "execution_count": 6,
   "id": "32f7ae36",
   "metadata": {},
   "outputs": [
    {
     "data": {
      "text/plain": [
       "0     959882\n",
       "1     428638\n",
       "2     532821\n",
       "3     938771\n",
       "4     571432\n",
       "       ...  \n",
       "95    241512\n",
       "96    591751\n",
       "97    297239\n",
       "98    218530\n",
       "99    493126\n",
       "Name: Sort Code, Length: 100, dtype: object"
      ]
     },
     "execution_count": 6,
     "metadata": {},
     "output_type": "execute_result"
    }
   ],
   "source": [
    "df['Sort Code']"
   ]
  },
  {
   "cell_type": "code",
   "execution_count": 7,
   "id": "7f7a2840",
   "metadata": {},
   "outputs": [
    {
     "data": {
      "text/html": [
       "<div>\n",
       "<style scoped>\n",
       "    .dataframe tbody tr th:only-of-type {\n",
       "        vertical-align: middle;\n",
       "    }\n",
       "\n",
       "    .dataframe tbody tr th {\n",
       "        vertical-align: top;\n",
       "    }\n",
       "\n",
       "    .dataframe thead th {\n",
       "        text-align: right;\n",
       "    }\n",
       "</style>\n",
       "<table border=\"1\" class=\"dataframe\">\n",
       "  <thead>\n",
       "    <tr style=\"text-align: right;\">\n",
       "      <th></th>\n",
       "      <th>Bank</th>\n",
       "      <th>SWIFT code</th>\n",
       "      <th>Check Digits</th>\n",
       "    </tr>\n",
       "  </thead>\n",
       "  <tbody>\n",
       "    <tr>\n",
       "      <th>0</th>\n",
       "      <td>Lloyds Bank</td>\n",
       "      <td>LOYD</td>\n",
       "      <td>C1</td>\n",
       "    </tr>\n",
       "    <tr>\n",
       "      <th>1</th>\n",
       "      <td>Barclays Bank</td>\n",
       "      <td>BARC</td>\n",
       "      <td>22</td>\n",
       "    </tr>\n",
       "    <tr>\n",
       "      <th>2</th>\n",
       "      <td>Halifax</td>\n",
       "      <td>HLFX</td>\n",
       "      <td>22</td>\n",
       "    </tr>\n",
       "    <tr>\n",
       "      <th>3</th>\n",
       "      <td>HSBC</td>\n",
       "      <td>HBUK</td>\n",
       "      <td>4B</td>\n",
       "    </tr>\n",
       "    <tr>\n",
       "      <th>4</th>\n",
       "      <td>Natwest</td>\n",
       "      <td>NWBK</td>\n",
       "      <td>2L</td>\n",
       "    </tr>\n",
       "  </tbody>\n",
       "</table>\n",
       "</div>"
      ],
      "text/plain": [
       "            Bank SWIFT code Check Digits\n",
       "0    Lloyds Bank       LOYD           C1\n",
       "1  Barclays Bank       BARC           22\n",
       "2        Halifax       HLFX           22\n",
       "3           HSBC       HBUK           4B\n",
       "4        Natwest       NWBK           2L"
      ]
     },
     "execution_count": 7,
     "metadata": {},
     "output_type": "execute_result"
    }
   ],
   "source": [
    "swift_codes.head()"
   ]
  },
  {
   "cell_type": "code",
   "execution_count": 8,
   "id": "160aa465",
   "metadata": {},
   "outputs": [],
   "source": [
    "# Use the SWIFT Bank Code lookup table to bring in additional information about the SWIFT code and \n",
    "# Check Digits of the receiving bank account\n",
    "df = df.join(swift_codes,lsuffix='Bank', rsuffix='Bank')\n",
    "df = df.drop('BankBank',axis=1)"
   ]
  },
  {
   "cell_type": "code",
   "execution_count": 9,
   "id": "c67678f6",
   "metadata": {},
   "outputs": [],
   "source": [
    "# Add a field for the Country Code\n",
    "df['Country Code'] = 'GB'"
   ]
  },
  {
   "cell_type": "code",
   "execution_count": 10,
   "id": "dec28c3f",
   "metadata": {},
   "outputs": [
    {
     "name": "stderr",
     "output_type": "stream",
     "text": [
      "c:\\users\\taraka pavan sriram\\appdata\\local\\programs\\python\\python37\\lib\\site-packages\\ipykernel_launcher.py:1: DeprecationWarning: `np.str` is a deprecated alias for the builtin `str`. To silence this warning, use `str` by itself. Doing this will not modify any behavior and is safe. If you specifically wanted the numpy scalar type, use `np.str_` here.\n",
      "Deprecated in NumPy 1.20; for more details and guidance: https://numpy.org/devdocs/release/1.20.0-notes.html#deprecations\n",
      "  \"\"\"Entry point for launching an IPython kernel.\n"
     ]
    }
   ],
   "source": [
    "df['IBAN'] = df['Country Code'] + df['Check Digits'].astype(np.str) + df['SWIFT code'] + df['Sort Code'] + df['Account Number'].astype(np.str)"
   ]
  },
  {
   "cell_type": "code",
   "execution_count": 11,
   "id": "60b36316",
   "metadata": {},
   "outputs": [
    {
     "data": {
      "text/plain": [
       "0    GBC1LOYD95988262230725\n",
       "1    GB22BARC42863883172326\n",
       "2    GB22HLFX53282134302539\n",
       "3    GB4BHBUK93877113350031\n",
       "4    GB2LNWBK57143268745993\n",
       "Name: IBAN, dtype: object"
      ]
     },
     "execution_count": 11,
     "metadata": {},
     "output_type": "execute_result"
    }
   ],
   "source": [
    "df['IBAN'].head()"
   ]
  },
  {
   "cell_type": "code",
   "execution_count": 12,
   "id": "58151339",
   "metadata": {},
   "outputs": [],
   "source": [
    "# Create the IBAN as above\n",
    "output = df[['Transaction ID','IBAN']].head()"
   ]
  },
  {
   "cell_type": "code",
   "execution_count": 13,
   "id": "07982496",
   "metadata": {},
   "outputs": [
    {
     "data": {
      "text/html": [
       "<div>\n",
       "<style scoped>\n",
       "    .dataframe tbody tr th:only-of-type {\n",
       "        vertical-align: middle;\n",
       "    }\n",
       "\n",
       "    .dataframe tbody tr th {\n",
       "        vertical-align: top;\n",
       "    }\n",
       "\n",
       "    .dataframe thead th {\n",
       "        text-align: right;\n",
       "    }\n",
       "</style>\n",
       "<table border=\"1\" class=\"dataframe\">\n",
       "  <thead>\n",
       "    <tr style=\"text-align: right;\">\n",
       "      <th></th>\n",
       "      <th>Transaction ID</th>\n",
       "      <th>IBAN</th>\n",
       "    </tr>\n",
       "  </thead>\n",
       "  <tbody>\n",
       "    <tr>\n",
       "      <th>0</th>\n",
       "      <td>3888</td>\n",
       "      <td>GBC1LOYD95988262230725</td>\n",
       "    </tr>\n",
       "    <tr>\n",
       "      <th>1</th>\n",
       "      <td>4746</td>\n",
       "      <td>GB22BARC42863883172326</td>\n",
       "    </tr>\n",
       "    <tr>\n",
       "      <th>2</th>\n",
       "      <td>5404</td>\n",
       "      <td>GB22HLFX53282134302539</td>\n",
       "    </tr>\n",
       "    <tr>\n",
       "      <th>3</th>\n",
       "      <td>9013</td>\n",
       "      <td>GB4BHBUK93877113350031</td>\n",
       "    </tr>\n",
       "    <tr>\n",
       "      <th>4</th>\n",
       "      <td>2535</td>\n",
       "      <td>GB2LNWBK57143268745993</td>\n",
       "    </tr>\n",
       "  </tbody>\n",
       "</table>\n",
       "</div>"
      ],
      "text/plain": [
       "   Transaction ID                    IBAN\n",
       "0            3888  GBC1LOYD95988262230725\n",
       "1            4746  GB22BARC42863883172326\n",
       "2            5404  GB22HLFX53282134302539\n",
       "3            9013  GB4BHBUK93877113350031\n",
       "4            2535  GB2LNWBK57143268745993"
      ]
     },
     "execution_count": 13,
     "metadata": {},
     "output_type": "execute_result"
    }
   ],
   "source": [
    "output.head()"
   ]
  }
 ],
 "metadata": {
  "kernelspec": {
   "display_name": "Python 3 (ipykernel)",
   "language": "python",
   "name": "python3"
  },
  "language_info": {
   "codemirror_mode": {
    "name": "ipython",
    "version": 3
   },
   "file_extension": ".py",
   "mimetype": "text/x-python",
   "name": "python",
   "nbconvert_exporter": "python",
   "pygments_lexer": "ipython3",
   "version": "3.7.4"
  }
 },
 "nbformat": 4,
 "nbformat_minor": 5
}
