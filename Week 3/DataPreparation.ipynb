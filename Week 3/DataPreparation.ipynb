{
 "cells": [
  {
   "cell_type": "code",
   "execution_count": 1,
   "id": "282f1f4a",
   "metadata": {},
   "outputs": [],
   "source": [
    "import pandas as pd\n",
    "from datetime import datetime"
   ]
  },
  {
   "cell_type": "code",
   "execution_count": 2,
   "id": "c1cb9288",
   "metadata": {},
   "outputs": [],
   "source": [
    "df = pd.read_csv('PD 2023 Wk 1 Input.csv')\n",
    "targets = pd.read_csv('Targets.csv')"
   ]
  },
  {
   "cell_type": "code",
   "execution_count": 3,
   "id": "d0d27bbb",
   "metadata": {},
   "outputs": [
    {
     "data": {
      "text/html": [
       "<div>\n",
       "<style scoped>\n",
       "    .dataframe tbody tr th:only-of-type {\n",
       "        vertical-align: middle;\n",
       "    }\n",
       "\n",
       "    .dataframe tbody tr th {\n",
       "        vertical-align: top;\n",
       "    }\n",
       "\n",
       "    .dataframe thead th {\n",
       "        text-align: right;\n",
       "    }\n",
       "</style>\n",
       "<table border=\"1\" class=\"dataframe\">\n",
       "  <thead>\n",
       "    <tr style=\"text-align: right;\">\n",
       "      <th></th>\n",
       "      <th>Transaction Code</th>\n",
       "      <th>Value</th>\n",
       "      <th>Customer Code</th>\n",
       "      <th>Online or In-Person</th>\n",
       "      <th>Transaction Date</th>\n",
       "    </tr>\n",
       "  </thead>\n",
       "  <tbody>\n",
       "    <tr>\n",
       "      <th>0</th>\n",
       "      <td>DTB-716-679-576</td>\n",
       "      <td>1448</td>\n",
       "      <td>100001</td>\n",
       "      <td>2</td>\n",
       "      <td>20/03/2023 00:00:00</td>\n",
       "    </tr>\n",
       "    <tr>\n",
       "      <th>1</th>\n",
       "      <td>DS-795-814-303</td>\n",
       "      <td>7839</td>\n",
       "      <td>100001</td>\n",
       "      <td>2</td>\n",
       "      <td>15/11/2023 00:00:00</td>\n",
       "    </tr>\n",
       "    <tr>\n",
       "      <th>2</th>\n",
       "      <td>DSB-807-592-406</td>\n",
       "      <td>5520</td>\n",
       "      <td>100005</td>\n",
       "      <td>1</td>\n",
       "      <td>14/07/2023 00:00:00</td>\n",
       "    </tr>\n",
       "    <tr>\n",
       "      <th>3</th>\n",
       "      <td>DS-367-545-264</td>\n",
       "      <td>7957</td>\n",
       "      <td>100007</td>\n",
       "      <td>2</td>\n",
       "      <td>18/08/2023 00:00:00</td>\n",
       "    </tr>\n",
       "    <tr>\n",
       "      <th>4</th>\n",
       "      <td>DSB-474-374-857</td>\n",
       "      <td>5375</td>\n",
       "      <td>100000</td>\n",
       "      <td>2</td>\n",
       "      <td>26/08/2023 00:00:00</td>\n",
       "    </tr>\n",
       "  </tbody>\n",
       "</table>\n",
       "</div>"
      ],
      "text/plain": [
       "  Transaction Code  Value  Customer Code  Online or In-Person  \\\n",
       "0  DTB-716-679-576   1448         100001                    2   \n",
       "1   DS-795-814-303   7839         100001                    2   \n",
       "2  DSB-807-592-406   5520         100005                    1   \n",
       "3   DS-367-545-264   7957         100007                    2   \n",
       "4  DSB-474-374-857   5375         100000                    2   \n",
       "\n",
       "      Transaction Date  \n",
       "0  20/03/2023 00:00:00  \n",
       "1  15/11/2023 00:00:00  \n",
       "2  14/07/2023 00:00:00  \n",
       "3  18/08/2023 00:00:00  \n",
       "4  26/08/2023 00:00:00  "
      ]
     },
     "execution_count": 3,
     "metadata": {},
     "output_type": "execute_result"
    }
   ],
   "source": [
    "df.head()"
   ]
  },
  {
   "cell_type": "code",
   "execution_count": 4,
   "id": "69116f88",
   "metadata": {},
   "outputs": [
    {
     "name": "stdout",
     "output_type": "stream",
     "text": [
      "<class 'pandas.core.frame.DataFrame'>\n",
      "RangeIndex: 365 entries, 0 to 364\n",
      "Data columns (total 5 columns):\n",
      " #   Column               Non-Null Count  Dtype \n",
      "---  ------               --------------  ----- \n",
      " 0   Transaction Code     365 non-null    object\n",
      " 1   Value                365 non-null    int64 \n",
      " 2   Customer Code        365 non-null    int64 \n",
      " 3   Online or In-Person  365 non-null    int64 \n",
      " 4   Transaction Date     365 non-null    object\n",
      "dtypes: int64(3), object(2)\n",
      "memory usage: 14.4+ KB\n"
     ]
    }
   ],
   "source": [
    "df.info()"
   ]
  },
  {
   "cell_type": "code",
   "execution_count": 5,
   "id": "4f9dd34a",
   "metadata": {},
   "outputs": [
    {
     "data": {
      "text/html": [
       "<div>\n",
       "<style scoped>\n",
       "    .dataframe tbody tr th:only-of-type {\n",
       "        vertical-align: middle;\n",
       "    }\n",
       "\n",
       "    .dataframe tbody tr th {\n",
       "        vertical-align: top;\n",
       "    }\n",
       "\n",
       "    .dataframe thead th {\n",
       "        text-align: right;\n",
       "    }\n",
       "</style>\n",
       "<table border=\"1\" class=\"dataframe\">\n",
       "  <thead>\n",
       "    <tr style=\"text-align: right;\">\n",
       "      <th></th>\n",
       "      <th>Online or In-Person</th>\n",
       "      <th>Q1</th>\n",
       "      <th>Q2</th>\n",
       "      <th>Q3</th>\n",
       "      <th>Q4</th>\n",
       "    </tr>\n",
       "  </thead>\n",
       "  <tbody>\n",
       "    <tr>\n",
       "      <th>0</th>\n",
       "      <td>Online</td>\n",
       "      <td>72500</td>\n",
       "      <td>70000</td>\n",
       "      <td>60000</td>\n",
       "      <td>60000</td>\n",
       "    </tr>\n",
       "    <tr>\n",
       "      <th>1</th>\n",
       "      <td>In-Person</td>\n",
       "      <td>75000</td>\n",
       "      <td>70000</td>\n",
       "      <td>70000</td>\n",
       "      <td>60000</td>\n",
       "    </tr>\n",
       "  </tbody>\n",
       "</table>\n",
       "</div>"
      ],
      "text/plain": [
       "  Online or In-Person     Q1     Q2     Q3     Q4\n",
       "0              Online  72500  70000  60000  60000\n",
       "1           In-Person  75000  70000  70000  60000"
      ]
     },
     "execution_count": 5,
     "metadata": {},
     "output_type": "execute_result"
    }
   ],
   "source": [
    "targets.head()"
   ]
  },
  {
   "cell_type": "code",
   "execution_count": 6,
   "id": "769162d1",
   "metadata": {},
   "outputs": [],
   "source": [
    "df = df[df['Transaction Code'].apply(lambda x: x.startswith('DSB'))]"
   ]
  },
  {
   "cell_type": "code",
   "execution_count": 7,
   "id": "37ebb283",
   "metadata": {},
   "outputs": [],
   "source": [
    "# Rename the values in the Online or In-person field, Online of the 1 values and In-Person for the 2 values\n",
    "df['Online or In-Person'] = df['Online or In-Person'].apply(lambda x: 'Online' if x==1 else 'In-Person')"
   ]
  },
  {
   "cell_type": "code",
   "execution_count": 8,
   "id": "cec8830c",
   "metadata": {},
   "outputs": [
    {
     "data": {
      "text/plain": [
       "2     2023-07-14\n",
       "4     2023-08-26\n",
       "5     2023-05-27\n",
       "11    2023-12-05\n",
       "12    2023-04-15\n",
       "         ...    \n",
       "350   2023-10-03\n",
       "351   2023-09-08\n",
       "353   2023-04-02\n",
       "354   2023-06-28\n",
       "359   2023-11-25\n",
       "Name: Transaction Date, Length: 102, dtype: datetime64[ns]"
      ]
     },
     "execution_count": 8,
     "metadata": {},
     "output_type": "execute_result"
    }
   ],
   "source": [
    "pd.to_datetime(df['Transaction Date'])"
   ]
  },
  {
   "cell_type": "code",
   "execution_count": 9,
   "id": "a8f4af0b",
   "metadata": {},
   "outputs": [],
   "source": [
    "# Change the date to be the quarter\n",
    "df['Transaction Date'] = pd.to_datetime(df['Transaction Date'], dayfirst=True)\n",
    "df['Quarter'] = df['Transaction Date'].apply(lambda x: x.quarter)\n",
    "df.drop('Transaction Date',axis=1, inplace=True)"
   ]
  },
  {
   "cell_type": "code",
   "execution_count": 10,
   "id": "dc418261",
   "metadata": {},
   "outputs": [],
   "source": [
    "df_1 = df.groupby(by=['Quarter','Online or In-Person']).sum()\n",
    "df_1\n",
    "df_1 = df_1.reset_index()"
   ]
  },
  {
   "cell_type": "code",
   "execution_count": 11,
   "id": "39a519dc",
   "metadata": {},
   "outputs": [],
   "source": [
    "# Pivot the quarterly targets so we have a row for each Type of Transaction and each Quarter and Rename the fields\n",
    "targets = targets.melt(id_vars=[\"Online or In-Person\"], \n",
    "        var_name=\"Quarter\", \n",
    "        value_name=\"Quarterly Target\")"
   ]
  },
  {
   "cell_type": "code",
   "execution_count": 12,
   "id": "a5ea24b8",
   "metadata": {},
   "outputs": [
    {
     "data": {
      "text/html": [
       "<div>\n",
       "<style scoped>\n",
       "    .dataframe tbody tr th:only-of-type {\n",
       "        vertical-align: middle;\n",
       "    }\n",
       "\n",
       "    .dataframe tbody tr th {\n",
       "        vertical-align: top;\n",
       "    }\n",
       "\n",
       "    .dataframe thead th {\n",
       "        text-align: right;\n",
       "    }\n",
       "</style>\n",
       "<table border=\"1\" class=\"dataframe\">\n",
       "  <thead>\n",
       "    <tr style=\"text-align: right;\">\n",
       "      <th></th>\n",
       "      <th>Online or In-Person</th>\n",
       "      <th>Quarter</th>\n",
       "      <th>Quarterly Target</th>\n",
       "    </tr>\n",
       "  </thead>\n",
       "  <tbody>\n",
       "    <tr>\n",
       "      <th>0</th>\n",
       "      <td>Online</td>\n",
       "      <td>Q1</td>\n",
       "      <td>72500</td>\n",
       "    </tr>\n",
       "    <tr>\n",
       "      <th>1</th>\n",
       "      <td>In-Person</td>\n",
       "      <td>Q1</td>\n",
       "      <td>75000</td>\n",
       "    </tr>\n",
       "    <tr>\n",
       "      <th>2</th>\n",
       "      <td>Online</td>\n",
       "      <td>Q2</td>\n",
       "      <td>70000</td>\n",
       "    </tr>\n",
       "    <tr>\n",
       "      <th>3</th>\n",
       "      <td>In-Person</td>\n",
       "      <td>Q2</td>\n",
       "      <td>70000</td>\n",
       "    </tr>\n",
       "    <tr>\n",
       "      <th>4</th>\n",
       "      <td>Online</td>\n",
       "      <td>Q3</td>\n",
       "      <td>60000</td>\n",
       "    </tr>\n",
       "    <tr>\n",
       "      <th>5</th>\n",
       "      <td>In-Person</td>\n",
       "      <td>Q3</td>\n",
       "      <td>70000</td>\n",
       "    </tr>\n",
       "    <tr>\n",
       "      <th>6</th>\n",
       "      <td>Online</td>\n",
       "      <td>Q4</td>\n",
       "      <td>60000</td>\n",
       "    </tr>\n",
       "    <tr>\n",
       "      <th>7</th>\n",
       "      <td>In-Person</td>\n",
       "      <td>Q4</td>\n",
       "      <td>60000</td>\n",
       "    </tr>\n",
       "  </tbody>\n",
       "</table>\n",
       "</div>"
      ],
      "text/plain": [
       "  Online or In-Person Quarter  Quarterly Target\n",
       "0              Online      Q1             72500\n",
       "1           In-Person      Q1             75000\n",
       "2              Online      Q2             70000\n",
       "3           In-Person      Q2             70000\n",
       "4              Online      Q3             60000\n",
       "5           In-Person      Q3             70000\n",
       "6              Online      Q4             60000\n",
       "7           In-Person      Q4             60000"
      ]
     },
     "execution_count": 12,
     "metadata": {},
     "output_type": "execute_result"
    }
   ],
   "source": [
    "targets"
   ]
  },
  {
   "cell_type": "code",
   "execution_count": 13,
   "id": "19f1a02f",
   "metadata": {},
   "outputs": [],
   "source": [
    "# Remove the 'Q' from the quarter field and make the data type numeric\n",
    "targets['Quarter'] = targets['Quarter'].apply(lambda x: int(x.replace('Q','')))"
   ]
  },
  {
   "cell_type": "code",
   "execution_count": 14,
   "id": "0772d34c",
   "metadata": {},
   "outputs": [
    {
     "name": "stdout",
     "output_type": "stream",
     "text": [
      "<class 'pandas.core.frame.DataFrame'>\n",
      "RangeIndex: 8 entries, 0 to 7\n",
      "Data columns (total 3 columns):\n",
      " #   Column               Non-Null Count  Dtype \n",
      "---  ------               --------------  ----- \n",
      " 0   Online or In-Person  8 non-null      object\n",
      " 1   Quarter              8 non-null      int64 \n",
      " 2   Quarterly Target     8 non-null      int64 \n",
      "dtypes: int64(2), object(1)\n",
      "memory usage: 320.0+ bytes\n"
     ]
    }
   ],
   "source": [
    "targets.info()"
   ]
  },
  {
   "cell_type": "code",
   "execution_count": 15,
   "id": "2d5bb107",
   "metadata": {},
   "outputs": [],
   "source": [
    "# Join the two datasets together\n",
    "output = df_1.merge(targets, how='inner', on=['Quarter','Online or In-Person'])"
   ]
  },
  {
   "cell_type": "code",
   "execution_count": 16,
   "id": "3c5c211b",
   "metadata": {},
   "outputs": [],
   "source": [
    "# Calculate the Variance to Target for each row\n",
    "output['Variance to Target'] = output['Value'] - output['Quarterly Target']"
   ]
  },
  {
   "cell_type": "code",
   "execution_count": 17,
   "id": "06e6661e",
   "metadata": {},
   "outputs": [
    {
     "data": {
      "text/html": [
       "<div>\n",
       "<style scoped>\n",
       "    .dataframe tbody tr th:only-of-type {\n",
       "        vertical-align: middle;\n",
       "    }\n",
       "\n",
       "    .dataframe tbody tr th {\n",
       "        vertical-align: top;\n",
       "    }\n",
       "\n",
       "    .dataframe thead th {\n",
       "        text-align: right;\n",
       "    }\n",
       "</style>\n",
       "<table border=\"1\" class=\"dataframe\">\n",
       "  <thead>\n",
       "    <tr style=\"text-align: right;\">\n",
       "      <th></th>\n",
       "      <th>Quarter</th>\n",
       "      <th>Online or In-Person</th>\n",
       "      <th>Value</th>\n",
       "      <th>Customer Code</th>\n",
       "      <th>Quarterly Target</th>\n",
       "      <th>Variance to Target</th>\n",
       "    </tr>\n",
       "  </thead>\n",
       "  <tbody>\n",
       "    <tr>\n",
       "      <th>0</th>\n",
       "      <td>1</td>\n",
       "      <td>In-Person</td>\n",
       "      <td>77576</td>\n",
       "      <td>1300032</td>\n",
       "      <td>75000</td>\n",
       "      <td>2576</td>\n",
       "    </tr>\n",
       "    <tr>\n",
       "      <th>1</th>\n",
       "      <td>1</td>\n",
       "      <td>Online</td>\n",
       "      <td>74562</td>\n",
       "      <td>1500075</td>\n",
       "      <td>72500</td>\n",
       "      <td>2062</td>\n",
       "    </tr>\n",
       "    <tr>\n",
       "      <th>2</th>\n",
       "      <td>2</td>\n",
       "      <td>In-Person</td>\n",
       "      <td>70634</td>\n",
       "      <td>1300061</td>\n",
       "      <td>70000</td>\n",
       "      <td>634</td>\n",
       "    </tr>\n",
       "    <tr>\n",
       "      <th>3</th>\n",
       "      <td>2</td>\n",
       "      <td>Online</td>\n",
       "      <td>69325</td>\n",
       "      <td>1600089</td>\n",
       "      <td>70000</td>\n",
       "      <td>-675</td>\n",
       "    </tr>\n",
       "    <tr>\n",
       "      <th>4</th>\n",
       "      <td>3</td>\n",
       "      <td>In-Person</td>\n",
       "      <td>74189</td>\n",
       "      <td>1400069</td>\n",
       "      <td>70000</td>\n",
       "      <td>4189</td>\n",
       "    </tr>\n",
       "    <tr>\n",
       "      <th>5</th>\n",
       "      <td>3</td>\n",
       "      <td>Online</td>\n",
       "      <td>59072</td>\n",
       "      <td>1200067</td>\n",
       "      <td>60000</td>\n",
       "      <td>-928</td>\n",
       "    </tr>\n",
       "    <tr>\n",
       "      <th>6</th>\n",
       "      <td>4</td>\n",
       "      <td>In-Person</td>\n",
       "      <td>43223</td>\n",
       "      <td>1000062</td>\n",
       "      <td>60000</td>\n",
       "      <td>-16777</td>\n",
       "    </tr>\n",
       "    <tr>\n",
       "      <th>7</th>\n",
       "      <td>4</td>\n",
       "      <td>Online</td>\n",
       "      <td>61908</td>\n",
       "      <td>900070</td>\n",
       "      <td>60000</td>\n",
       "      <td>1908</td>\n",
       "    </tr>\n",
       "  </tbody>\n",
       "</table>\n",
       "</div>"
      ],
      "text/plain": [
       "   Quarter Online or In-Person  Value  Customer Code  Quarterly Target  \\\n",
       "0        1           In-Person  77576        1300032             75000   \n",
       "1        1              Online  74562        1500075             72500   \n",
       "2        2           In-Person  70634        1300061             70000   \n",
       "3        2              Online  69325        1600089             70000   \n",
       "4        3           In-Person  74189        1400069             70000   \n",
       "5        3              Online  59072        1200067             60000   \n",
       "6        4           In-Person  43223        1000062             60000   \n",
       "7        4              Online  61908         900070             60000   \n",
       "\n",
       "   Variance to Target  \n",
       "0                2576  \n",
       "1                2062  \n",
       "2                 634  \n",
       "3                -675  \n",
       "4                4189  \n",
       "5                -928  \n",
       "6              -16777  \n",
       "7                1908  "
      ]
     },
     "execution_count": 17,
     "metadata": {},
     "output_type": "execute_result"
    }
   ],
   "source": [
    "output"
   ]
  }
 ],
 "metadata": {
  "kernelspec": {
   "display_name": "Python 3 (ipykernel)",
   "language": "python",
   "name": "python3"
  },
  "language_info": {
   "codemirror_mode": {
    "name": "ipython",
    "version": 3
   },
   "file_extension": ".py",
   "mimetype": "text/x-python",
   "name": "python",
   "nbconvert_exporter": "python",
   "pygments_lexer": "ipython3",
   "version": "3.7.4"
  }
 },
 "nbformat": 4,
 "nbformat_minor": 5
}
